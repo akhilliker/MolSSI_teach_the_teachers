{
 "cells": [
  {
   "cell_type": "markdown",
   "metadata": {},
   "source": [
    "# MolSSI workshop\n",
    "## More hashtags, means smaller text\n",
    "### Good for subtitles.\n",
    "\n",
    "To run this, hit shift + enter"
   ]
  },
  {
   "cell_type": "markdown",
   "metadata": {},
   "source": [
    "### Have you named your file yet?\n",
    "\n",
    "If not, click \"Untitled\" and change the name of your file, as you see fit."
   ]
  },
  {
   "cell_type": "code",
   "execution_count": 4,
   "metadata": {},
   "outputs": [],
   "source": [
    "# Can assign values to names (called variables)\n",
    "# This is a comment in python, marked by the #\n",
    "\n",
    "# variable_name = value\n",
    "\n",
    "deltaH = -541.5 #kJ/mole\n",
    "deltaS = 10.4 # kJ/mole K\n",
    "temperature = 298 #K\n",
    "\n",
    "# Can't add units, but you can add it with a comment, which clarifies your code\n",
    "# Command slash gives you comment; can comment multiple lines like this\n",
    "\n",
    "# Set up calculation for Gibbs free energy\n",
    "deltaG = deltaH - temperature * deltaS # Note that * means multiple in python"
   ]
  },
  {
   "cell_type": "code",
   "execution_count": 5,
   "metadata": {},
   "outputs": [
    {
     "name": "stdout",
     "output_type": "stream",
     "text": [
      "-3640.7000000000003\n"
     ]
    }
   ],
   "source": [
    "# Note that when you run the code, it runs, but you don't see anything.  Need to \"print\" to the screen\n",
    "\n",
    "print(deltaG)"
   ]
  },
  {
   "cell_type": "code",
   "execution_count": 6,
   "metadata": {},
   "outputs": [
    {
     "data": {
      "text/plain": [
       "-3640700.0000000005"
      ]
     },
     "execution_count": 6,
     "metadata": {},
     "output_type": "execute_result"
    }
   ],
   "source": [
    "deltaG*1000 # converting to Joules"
   ]
  },
  {
   "cell_type": "code",
   "execution_count": 7,
   "metadata": {},
   "outputs": [
    {
     "name": "stdout",
     "output_type": "stream",
     "text": [
      "-3640.7000000000003\n"
     ]
    }
   ],
   "source": [
    "print(deltaG)"
   ]
  },
  {
   "cell_type": "code",
   "execution_count": 8,
   "metadata": {},
   "outputs": [
    {
     "name": "stdout",
     "output_type": "stream",
     "text": [
      "-3640.7000000000003\n",
      "-3640700.0000000005\n"
     ]
    }
   ],
   "source": [
    "# Note that deltaG is still its original value of the variable\n",
    "# The variable is not changed in place, unless you explicitly tell the program to do that\n",
    "# Or name as new variable:\n",
    "deltaG_J = deltaG * 1000\n",
    "print(deltaG)\n",
    "print(deltaG_J)"
   ]
  },
  {
   "cell_type": "code",
   "execution_count": 9,
   "metadata": {},
   "outputs": [],
   "source": [
    "# To rewrite deltaG, need to set the equation as the variable name\n",
    "# consider carefully when you should re-write a variable's value versus rename the value\n",
    "# Key point: can't change values in place- rewrite with new name or reassign the new value\n",
    "\n",
    "# deltaG = deltaG * 1000 will change the value in place as you've redefined the value"
   ]
  },
  {
   "cell_type": "code",
   "execution_count": 10,
   "metadata": {},
   "outputs": [
    {
     "name": "stdout",
     "output_type": "stream",
     "text": [
      "10.4\n",
      "-3640.7000000000003\n"
     ]
    }
   ],
   "source": [
    "# can assign multiple values in one line using commas; optional, but you'll see it in others code\n",
    "\n",
    "deltaH, deltaS, temperature = -541.5, 10.4, 298\n",
    "deltaG = deltaH - temperature * deltaS\n",
    "print(deltaS)\n",
    "print(deltaG)"
   ]
  },
  {
   "cell_type": "markdown",
   "metadata": {},
   "source": [
    "# Data types introduction: "
   ]
  },
  {
   "cell_type": "code",
   "execution_count": 12,
   "metadata": {},
   "outputs": [],
   "source": [
    "# find data type:\n",
    "type(deltaG)\n",
    "\n",
    "# prints \"float\", which has a decimal point\n",
    "\n",
    "# can change this to other datatype\n",
    "# to change to a word (string in python)\n",
    "deltaG_string = str(deltaG)\n"
   ]
  },
  {
   "cell_type": "code",
   "execution_count": 17,
   "metadata": {},
   "outputs": [
    {
     "name": "stdout",
     "output_type": "stream",
     "text": [
      "<class 'float'>\n",
      "<class 'str'>\n"
     ]
    }
   ],
   "source": [
    "print(type(deltaG)) # prints float\n",
    "print(type(deltaG_string)) # prints string\n",
    "\n",
    "# can you do math with a string?\n",
    "# deltaG_string * 100\n",
    "# yes, but the expression above will print the string (text) of deltaG 100 times\n",
    "\n",
    "# note that if you just use type(deltaG), etc. jupyter will only show the last line.  \n",
    "# if you want to see it all, wrap it in the print function and both will be shown"
   ]
  },
  {
   "cell_type": "code",
   "execution_count": 19,
   "metadata": {},
   "outputs": [],
   "source": [
    "# List or array is a list of values\n",
    "# list definied by brackets\n",
    "# spaces are recommended in Python style guides, but not required by python\n",
    "# tabs are a type of space that will become important later\n",
    "\n",
    "energy_kcal = [-13.4, -2.7, 5.4, 42.1]"
   ]
  },
  {
   "cell_type": "code",
   "execution_count": 20,
   "metadata": {},
   "outputs": [
    {
     "name": "stdout",
     "output_type": "stream",
     "text": [
      "-2.7\n"
     ]
    }
   ],
   "source": [
    "# If you want to print a particular part of the list\n",
    "# key point: python starts counting at zero! \n",
    "# print the array, indicating the index # in brackets\n",
    "# make sure that you've run the cell above otherwise, the program doesn't know what energy_kcal is yet\n",
    "# Might be a good point to point out the blue number at left showing you what cells have run\n",
    "\n",
    "# index for -2.7 is an index of 1\n",
    "print(energy_kcal[1])"
   ]
  },
  {
   "cell_type": "code",
   "execution_count": 22,
   "metadata": {},
   "outputs": [
    {
     "name": "stdout",
     "output_type": "stream",
     "text": [
      "-2700.0\n"
     ]
    }
   ],
   "source": [
    "# Since you can reference one value in the list, you can do things with individual values (like some math)\n",
    "\n",
    "energy_cal = energy_kcal[1]*1000\n",
    "print(energy_cal)\n"
   ]
  },
  {
   "cell_type": "markdown",
   "metadata": {},
   "source": [
    "## Taking slices\n",
    "\n",
    "(Good place to show them again how to make a markdown cell and remind them that shift + enter is the shortcut for running the cell)"
   ]
  },
  {
   "cell_type": "code",
   "execution_count": 23,
   "metadata": {},
   "outputs": [
    {
     "name": "stdout",
     "output_type": "stream",
     "text": [
      "[-13.4, -2.7]\n"
     ]
    }
   ],
   "source": [
    "# What if you want a new list that is a subset of your old list: take a slice\n",
    "\n",
    "# How to slice:\n",
    "# new_list_name = old_list_name[start:end+1]\n",
    "\n",
    "short_list = energy_kcal[0:2] \n",
    "\n",
    "# important point: you start at the first index #, but you go up to but NOT INCLUDING the final number\n",
    "# slicing is not inclusive\n",
    "\n",
    "print(short_list)"
   ]
  },
  {
   "cell_type": "code",
   "execution_count": 24,
   "metadata": {},
   "outputs": [
    {
     "name": "stdout",
     "output_type": "stream",
     "text": [
      "4\n",
      "2\n"
     ]
    }
   ],
   "source": [
    "# What is the length of my list?\n",
    "print(len(energy_kcal))\n",
    "print(len(short_list))"
   ]
  },
  {
   "cell_type": "code",
   "execution_count": 25,
   "metadata": {},
   "outputs": [
    {
     "name": "stdout",
     "output_type": "stream",
     "text": [
      "Slice 1 is  [-2.7, 5.4, 42.1]\n",
      "Slice 2 is  [-13.4, -2.7, 5.4]\n"
     ]
    }
   ],
   "source": [
    "# other ways to slice:\n",
    "# index without 1st #, it will start at 0\n",
    "# index without last #, it will go to the end\n",
    "\n",
    "slice1 = energy_kcal[1:] #[-2.7, 5.4, 42.1]\n",
    "slice2 = energy_kcal[:3] #[-13.4, -2.7, 5.4]\n",
    "\n",
    "# Ask students what will these print\n",
    "# Then test in a more sophisticated print format:\n",
    "\n",
    "print(\"Slice 1 is \", slice1)\n",
    "print('Slice 2 is ', slice2)\n",
    "\n",
    "# note that either \" or ' is fine for python"
   ]
  },
  {
   "cell_type": "code",
   "execution_count": 26,
   "metadata": {},
   "outputs": [
    {
     "name": "stdout",
     "output_type": "stream",
     "text": [
      "[-13.4, -2.7, 5.4, 42.1]\n"
     ]
    }
   ],
   "source": [
    "# Reminder that you have to save work as a variable name to store it in memory\n",
    "\n",
    "energy_kcal[:2]\n",
    "print(energy_kcal)\n",
    "\n",
    "# still print the full list"
   ]
  },
  {
   "cell_type": "markdown",
   "metadata": {},
   "source": [
    "## For loops in python"
   ]
  },
  {
   "cell_type": "code",
   "execution_count": 41,
   "metadata": {},
   "outputs": [
    {
     "name": "stdout",
     "output_type": "stream",
     "text": [
      "-56.0656\n",
      "-11.296800000000001\n",
      "22.593600000000002\n",
      "176.1464\n"
     ]
    }
   ],
   "source": [
    "# Lists are handy as now you can do work, like math, with every value in the list\n",
    "# convert all numbers in list to calories\n",
    "\n",
    "# basic structure of a loop\n",
    "# variable_name is a stand in for the item in the list that you are in each time you run thru the loop, often i or x\n",
    "# must end 1st line with : and must indent next line. Jupyter notebook is smart and will indent for you\n",
    "\n",
    "# for variable_name in list_name: \n",
    "#     do stuff with the variable\n",
    "#     keep doing stuff\n",
    "#     as many lines as you want\n",
    "#     don't need an end statment\n",
    "\n",
    "for number in energy_kcal:\n",
    "    kJ = number * 4.184\n",
    "    print(kJ)\n",
    "    \n",
    "# number will change each time through the loop as you loop thru list\n",
    "# walk through the logic of the loop\n",
    "# good place to hit the idea of a variable and that it can be anything\n"
   ]
  },
  {
   "cell_type": "code",
   "execution_count": 38,
   "metadata": {},
   "outputs": [
    {
     "name": "stdout",
     "output_type": "stream",
     "text": [
      "176.1464\n"
     ]
    }
   ],
   "source": [
    "# point out that the numbers are not callable outside of loop, except for the last loop\n",
    "\n",
    "print(kJ)\n"
   ]
  },
  {
   "cell_type": "code",
   "execution_count": 39,
   "metadata": {},
   "outputs": [
    {
     "name": "stdout",
     "output_type": "stream",
     "text": [
      "[-56.0656, -11.296800000000001, 22.593600000000002, 176.1464, -56.0656, -11.296800000000001, 22.593600000000002, 176.1464]\n"
     ]
    }
   ],
   "source": [
    "# list_name.append(new thing you are doing)\n",
    "# error instroduced on purpose\n",
    "# what doesn't the error tell you?  Need to define the energy_kJoules and define it as a list\n",
    "# TT: Note that students don't like to overwrite their code, so whenever possible, start a new cell and write it again\n",
    "for number in energy_kcal:\n",
    "    kJ = number * 4.184\n",
    "    energy_kJoules.append(kJ)\n",
    "\n",
    "print(energy_kJoules)"
   ]
  },
  {
   "cell_type": "code",
   "execution_count": 40,
   "metadata": {},
   "outputs": [
    {
     "name": "stdout",
     "output_type": "stream",
     "text": [
      "[-56.0656, -11.296800000000001, 22.593600000000002, 176.1464]\n",
      "42.1\n"
     ]
    }
   ],
   "source": [
    "# Define an empty list\n",
    "energy_kJoules =[]\n",
    "\n",
    "# Then write your loop\n",
    "for number in energy_kcal:\n",
    "    kJ = number * 4.184\n",
    "    energy_kJoules.append(kJ)\n",
    "\n",
    "print(energy_kJoules)\n",
    "print (number) # prints the last number in the original list energy_kcal"
   ]
  },
  {
   "cell_type": "markdown",
   "metadata": {},
   "source": [
    "## Conditional statements:\n",
    "### Context: sometimes you want to do things to a list only if certain conditions are met"
   ]
  },
  {
   "cell_type": "code",
   "execution_count": 34,
   "metadata": {},
   "outputs": [
    {
     "name": "stdout",
     "output_type": "stream",
     "text": [
      "[-56.0656, -11.296800000000001]\n",
      "[22.593600000000002, 176.1464]\n"
     ]
    }
   ],
   "source": [
    "# note that number is a place holder variable that only has meaning within the for loop\n",
    "# other new variables within for loop must be defined outside of the for loop for you to use it\n",
    "\n",
    "negative_energy = []\n",
    "\n",
    "for number in energy_kJoules:\n",
    "    if number < 0:\n",
    "        negative_energy.append(number)\n",
    "\n",
    "print(negative_energy)\n"
   ]
  },
  {
   "cell_type": "code",
   "execution_count": null,
   "metadata": {},
   "outputs": [],
   "source": [
    "# note that number is a place holder variable that only has meaning within the for loop\n",
    "# other new variables within for loop must be defined outside of the for loop for you to use it\n",
    "\n",
    "negative_energy = []\n",
    "positive_energy = []\n",
    "\n",
    "for number in energy_kJoules:\n",
    "    if number < 0:\n",
    "        negative_energy.append(number)\n",
    "    else:\n",
    "        positive_energy.append(number)\n",
    "\n",
    "print(negative_energy)\n",
    "print(positive_energy)"
   ]
  },
  {
   "cell_type": "code",
   "execution_count": 35,
   "metadata": {},
   "outputs": [],
   "source": [
    "# Go over other mathimatical operators here:\n",
    "# < > == != >= <=\n",
    "\n",
    "# Other logic operations include\n",
    "\n",
    "# equal to ==\n",
    "# not equal to !=\n",
    "# greater than >\n",
    "# less than <\n",
    "# greater than or equal to >=\n",
    "# less than or equal to <=\n",
    "# You can also use and, or, and not to check more than one condition."
   ]
  },
  {
   "cell_type": "code",
   "execution_count": null,
   "metadata": {},
   "outputs": [],
   "source": [
    "# Time for a break!  Make sure to save your changes\n",
    "# When you shut down your jupyter notebook, every clears from memory and you have to run the cells again\n",
    "\n",
    "# after saving, show them this in kernel: restart and run all or cells: run all\n",
    "# note that jupyter will notebook will stop if there is an error\n",
    "# Next modules take this info and build on it to learn more concepts. \n",
    "# in this workshop, we will break into groups and each will prep and teach a module this afternoon\n",
    "\n"
   ]
  }
 ],
 "metadata": {
  "kernelspec": {
   "display_name": "Python 3",
   "language": "python",
   "name": "python3"
  },
  "language_info": {
   "codemirror_mode": {
    "name": "ipython",
    "version": 3
   },
   "file_extension": ".py",
   "mimetype": "text/x-python",
   "name": "python",
   "nbconvert_exporter": "python",
   "pygments_lexer": "ipython3",
   "version": "3.7.3"
  }
 },
 "nbformat": 4,
 "nbformat_minor": 2
}

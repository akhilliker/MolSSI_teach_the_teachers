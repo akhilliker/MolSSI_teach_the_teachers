{
 "cells": [
  {
   "cell_type": "markdown",
   "metadata": {},
   "source": [
    "## Instructions:\n",
    "Take the previous workbook and streamline it to essential functions and clean code to calculate bond length."
   ]
  },
  {
   "cell_type": "code",
   "execution_count": 1,
   "metadata": {},
   "outputs": [],
   "source": [
    "# Best practice: do all imports at the top\n",
    "import os.path\n",
    "import numpy"
   ]
  },
  {
   "cell_type": "code",
   "execution_count": 2,
   "metadata": {},
   "outputs": [],
   "source": [
    "def open_xyz(filepath):\n",
    "    \"\"\"\n",
    "    Function to open an xyz file, pull the atom names and the x, y, z coordinates\n",
    "    Input:\n",
    "        Filename parameter is required and contains the file path for the xyz file\n",
    "        Assumes that the .xyz file has two header rows, which will be skipped\n",
    "        Assumes that the data array includes columns in the following order:\n",
    "            Index 0: atom name\n",
    "            Index 1: x coordinate\n",
    "            Index 2: y coordinate\n",
    "            Index 3: z coordinate\n",
    "        Coordinates are in Angstroms \n",
    "    \"\"\"\n",
    "    xyz_file = numpy.genfromtxt(fname = filepath, skip_header = 2, dtype= 'unicode')\n",
    "    symbols = xyz_file[:, 0] # all rows, column 1 to get name\n",
    "    coordinates = xyz_file[:, 1:] # all rows, column 2 and on to get numbers\n",
    "    coordinates = coordinates.astype(numpy.float) # change data type from string to float\n",
    "    return symbols, coordinates"
   ]
  },
  {
   "cell_type": "code",
   "execution_count": 3,
   "metadata": {},
   "outputs": [],
   "source": [
    "def calculate_distance(atom1_coord, atom2_coord):\n",
    "    \"\"\"\n",
    "    The triple quotes allows multi line strings and can be used anywhere. \n",
    "    This is a doc string. This is where you write documentation for how your function works. \n",
    "    There are standards for how to do this, depending on the library. MolSSI uses numpy standards.\n",
    "    By putting the doc string here before your code, it will be printed when the help(your_function_name) function is called.\n",
    "    Inputs: x, y, z coordinates (in that order) for atom1 and atom2.\n",
    "    Returns the bond distance between those two atoms in angstroms.\n",
    "    \"\"\"\n",
    "    x_distance = atom1_coord[0] - atom2_coord[0]\n",
    "    y_distance = atom1_coord[1] - atom2_coord[1]\n",
    "    z_distance = atom1_coord[2] - atom2_coord[2]\n",
    "    bond_distance = numpy.sqrt(x_distance**2 + y_distance**2 + z_distance**2)\n",
    "    return bond_distance"
   ]
  },
  {
   "cell_type": "code",
   "execution_count": 4,
   "metadata": {},
   "outputs": [],
   "source": [
    "def bond_check(bond_distance, minimum_length = 0, maximum_length = 1.5):\n",
    "    \"\"\"\n",
    "    Input: Three numeric parameters:\n",
    "        1) a distance between two atoms, in angstroms (required parameter)\n",
    "        2) minimum acceptable bond length (optional parameter; default is 0)\n",
    "        3) maximum acceptable bond length (optional parameter; default is 1.5)\n",
    "    Evaluates whether the bond is between min and max angtroms\n",
    "    Output: True if bond is between 0 and 1.5 angstroms; else, False\n",
    "    \"\"\"\n",
    "    if bond_distance > minimum_length and bond_distance <= maximum_length:\n",
    "        return True\n",
    "    else:\n",
    "        return False\n",
    "    \n",
    "\n",
    "\n"
   ]
  },
  {
   "cell_type": "code",
   "execution_count": 5,
   "metadata": {
    "scrolled": true
   },
   "outputs": [],
   "source": [
    "file_path = os.path.join('data', 'water.xyz')\n"
   ]
  },
  {
   "cell_type": "code",
   "execution_count": 8,
   "metadata": {},
   "outputs": [
    {
     "name": "stdout",
     "output_type": "stream",
     "text": [
      "O to H1 bond distance:  0.969 angstroms.\n",
      "O to H2 bond distance:  0.969 angstroms.\n"
     ]
    }
   ],
   "source": [
    "# Call the functions\n",
    "datafile = open('H2Obondlengths4.txt','w+')\n",
    "\n",
    "symbols, coord = open_xyz(file_path)\n",
    "num_atoms =  len(symbols)\n",
    "for i in range(0, num_atoms):\n",
    "    for j in range(0, num_atoms):\n",
    "        if i < j:\n",
    "            D = calculate_distance(coord[i], coord[j])\n",
    "            if bond_check(D) is True:\n",
    "                print(f'{symbols[i]} to {symbols[j]} bond distance: {D: .3f} angstroms.')\n",
    "                datafile.write(f'{symbols[i]} to {symbols[j]} bond distance: {D: .3f} angstroms. \\n')\n",
    "\n",
    "datafile.close()    "
   ]
  },
  {
   "cell_type": "code",
   "execution_count": null,
   "metadata": {},
   "outputs": [],
   "source": [
    "# Next: how to remove this from jupyter notebook and move it to command line\n",
    "# then user can input the file name"
   ]
  }
 ],
 "metadata": {
  "kernelspec": {
   "display_name": "Python 3",
   "language": "python",
   "name": "python3"
  },
  "language_info": {
   "codemirror_mode": {
    "name": "ipython",
    "version": 3
   },
   "file_extension": ".py",
   "mimetype": "text/x-python",
   "name": "python",
   "nbconvert_exporter": "python",
   "pygments_lexer": "ipython3",
   "version": "3.7.3"
  }
 },
 "nbformat": 4,
 "nbformat_minor": 2
}

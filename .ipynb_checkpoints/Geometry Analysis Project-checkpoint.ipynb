{
 "cells": [
  {
   "cell_type": "markdown",
   "metadata": {},
   "source": [
    "## Instructions:\n",
    "In the lesson materials, there is a file in the data folder called “water.xyz”. This is a very simple, standard file format that is often used to distribute molecular coordinates. The first line of the file is the number of atoms in the molecule, the second line is a title line (or may be blank), and the coordinates begin on the third line. The format of the coordinates is\n",
    "Atom_Label  XCoor   YCoor   ZCoor\n",
    "\n",
    "Write a code to read in the information from the xyz file and determine the bond lengths between all the atoms. There is a numpy function to take the square root, numpy.sqrt(). To raise a number to a power, use \" ** \", as in \" 3**2 = 9 \". "
   ]
  },
  {
   "cell_type": "markdown",
   "metadata": {},
   "source": [
    "### Anatomy of an xyz file:\n",
    "There is an xyz file for water\n",
    "Used to convey molecular structures\n",
    "1st line is # of atoms\n",
    "2nd line is comment line (name of molecule)\n",
    "3rd line on is the symbol, x, y, z coordinate\n",
    "there will be as many lines as there are atoms in the file\n",
    "\n",
    "We should write a code to read in infomation into \n",
    "\n",
    "Distance formula from geometry "
   ]
  },
  {
   "cell_type": "code",
   "execution_count": 1,
   "metadata": {},
   "outputs": [],
   "source": [
    "import os.path\n",
    "import numpy"
   ]
  },
  {
   "cell_type": "code",
   "execution_count": 4,
   "metadata": {},
   "outputs": [
    {
     "name": "stdout",
     "output_type": "stream",
     "text": [
      "\u001b[31mbenzene.xyz\u001b[m\u001b[m*               \u001b[34moutfiles\u001b[m\u001b[m/\r\n",
      "\u001b[31mbuckminsterfullerene.xyz\u001b[m\u001b[m*  \u001b[31msapt.out\u001b[m\u001b[m*\r\n",
      "\u001b[31mdistance_data_headers.csv\u001b[m\u001b[m* \u001b[31mwater.xyz\u001b[m\u001b[m*\r\n"
     ]
    }
   ],
   "source": [
    "ls data"
   ]
  },
  {
   "cell_type": "code",
   "execution_count": 5,
   "metadata": {},
   "outputs": [
    {
     "name": "stdout",
     "output_type": "stream",
     "text": [
      "data/water.xyz\n"
     ]
    }
   ],
   "source": [
    "file_path = os.path.join('data', 'water.xyz')\n",
    "print(file_path)"
   ]
  },
  {
   "cell_type": "code",
   "execution_count": 10,
   "metadata": {},
   "outputs": [],
   "source": [
    "# create file pointer to reference opened file to read in\n",
    "outfile = open(file_path, \"r\")\n",
    "\n",
    "# read each line of the file \n",
    "water_file = outfile.readlines()\n",
    "\n",
    "# now that you have read the file, close it\n",
    "# otherwise this can cause problems as the file it still accessible to memory\n",
    "outfile.close()"
   ]
  },
  {
   "cell_type": "code",
   "execution_count": 40,
   "metadata": {},
   "outputs": [
    {
     "name": "stdout",
     "output_type": "stream",
     "text": [
      "['3\\n', 'Water xyz file\\n', 'O        0.000000     -0.007156      0.965491\\n', 'H1      -0.000000      0.001486     -0.003471\\n', 'H2       0.000000      0.931026      1.207929\\n']\n",
      "5\n"
     ]
    }
   ],
   "source": [
    "print(water_file)\n",
    "print(len(water_file)) # prints 5, so 2 header lines and 3 atom coordinates, as expected"
   ]
  },
  {
   "cell_type": "code",
   "execution_count": 39,
   "metadata": {},
   "outputs": [
    {
     "name": "stdout",
     "output_type": "stream",
     "text": [
      "['3' 'Water xyz file' 'O        0.000000     -0.007156      0.965491'\n",
      " 'H1      -0.000000      0.001486     -0.003471'\n",
      " 'H2       0.000000      0.931026      1.207929']\n"
     ]
    },
    {
     "data": {
      "text/plain": [
       "numpy.ndarray"
      ]
     },
     "execution_count": 39,
     "metadata": {},
     "output_type": "execute_result"
    }
   ],
   "source": [
    "# coordinates = numpy.genfromtxt(fname = file_path, delimiter = ',', dtype = 'unicode')\n",
    "# print(coordinates)\n",
    "# type(coordinates)"
   ]
  },
  {
   "cell_type": "code",
   "execution_count": 57,
   "metadata": {},
   "outputs": [
    {
     "name": "stdout",
     "output_type": "stream",
     "text": [
      "['O        0.000000     -0.007156      0.965491'\n",
      " 'H1      -0.000000      0.001486     -0.003471'\n",
      " 'H2       0.000000      0.931026      1.207929']\n"
     ]
    },
    {
     "data": {
      "text/plain": [
       "3"
      ]
     },
     "execution_count": 57,
     "metadata": {},
     "output_type": "execute_result"
    }
   ],
   "source": [
    "water_data = coordinates[2:]\n",
    "print(water_data)\n",
    "type(water_data)\n",
    "len(water_data)"
   ]
  },
  {
   "cell_type": "code",
   "execution_count": 56,
   "metadata": {},
   "outputs": [
    {
     "name": "stdout",
     "output_type": "stream",
     "text": [
      "O 0.0 -0.007156 0.965491\n",
      "H1 -0.0 0.001486 -0.003471\n",
      "0.938962041608\n",
      "0.9690005374652793\n"
     ]
    }
   ],
   "source": [
    "# Calculate the bond length between 2 atoms (to test code before setting it up as a loop)\n",
    "atom1 = water_data[0]\n",
    "atom1_split = atom1.split()\n",
    "atom1_name = atom1_split[0]\n",
    "atom1_X = float(atom1_split[1])\n",
    "atom1_Y = float(atom1_split[2])\n",
    "atom1_Z = float(atom1_split[3])\n",
    "print(atom1_name, atom1_X, atom1_Y, atom1_Z)\n",
    "\n",
    "atom2 = water_data[1]\n",
    "atom2_split = atom2.split()\n",
    "atom2_name = atom2_split[0]\n",
    "atom2_X = float(atom2_split[1])\n",
    "atom2_Y = float(atom2_split[2])\n",
    "atom2_Z = float(atom2_split[3])\n",
    "print(atom2_name, atom2_X, atom2_Y, atom2_Z)\n",
    "\n",
    "distance_sum = ((atom1_X - atom2_X)**2) + ((atom1_Y - atom2_Y)**2) + ((atom1_Z - atom2_Z)**2)\n",
    "D = numpy.sqrt(distance_sum)\n",
    "print(distance_sum)\n",
    "print(D)"
   ]
  },
  {
   "cell_type": "code",
   "execution_count": 65,
   "metadata": {},
   "outputs": [
    {
     "name": "stdout",
     "output_type": "stream",
     "text": [
      "O to O bond distance: 0.0 angstroms.\n",
      "O to H1 bond distance: 0.9690005374652793 angstroms.\n",
      "O to H2 bond distance: 0.9690003348647513 angstroms.\n",
      "H1 to O bond distance: 0.9690005374652793 angstroms.\n",
      "H1 to H1 bond distance: 0.0 angstroms.\n",
      "H1 to H2 bond distance: 1.52693633514957 angstroms.\n",
      "H2 to O bond distance: 0.9690003348647513 angstroms.\n",
      "H2 to H1 bond distance: 1.52693633514957 angstroms.\n",
      "H2 to H2 bond distance: 0.0 angstroms.\n"
     ]
    }
   ],
   "source": [
    "# set up the calculation as a for loop to test every possible pair\n",
    "atom_names = []\n",
    "atom_coordinates = []\n",
    "\n",
    "for atom in water_data:\n",
    "    atom_split = atom.split()\n",
    "    atom_name = atom_split[0]\n",
    "    atom_names.append(atom_name)\n",
    "    x, y, z = float(atom_split[1]), float(atom_split[2]), float(atom_split[3])\n",
    "    atom_coordinates.append([x,y,z])\n",
    "    \n",
    "    #print(atom_name, x, y, z)\n",
    "\n",
    "for i in range(len(water_data)):\n",
    "    for j in range(len(water_data)):\n",
    "        atom1 = atom_coordinates[i]\n",
    "        atom2 = atom_coordinates[j]\n",
    "        distance_sum = ((atom1[0] - atom2[0])**2) + ((atom1[1] - atom2[1])**2) + ((atom1[2] - atom2[2])**2)\n",
    "        D = numpy.sqrt(distance_sum)\n",
    "        print(f'{atom_names[i]} to {atom_names[j]} bond distance: {D} angstroms.')\n",
    "        \n",
    "    \n"
   ]
  },
  {
   "cell_type": "code",
   "execution_count": null,
   "metadata": {},
   "outputs": [],
   "source": []
  }
 ],
 "metadata": {
  "kernelspec": {
   "display_name": "Python 3",
   "language": "python",
   "name": "python3"
  },
  "language_info": {
   "codemirror_mode": {
    "name": "ipython",
    "version": 3
   },
   "file_extension": ".py",
   "mimetype": "text/x-python",
   "name": "python",
   "nbconvert_exporter": "python",
   "pygments_lexer": "ipython3",
   "version": "3.7.3"
  }
 },
 "nbformat": 4,
 "nbformat_minor": 2
}

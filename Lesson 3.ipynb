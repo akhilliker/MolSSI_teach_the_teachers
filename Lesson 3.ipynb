{
 "cells": [
  {
   "cell_type": "code",
   "execution_count": 30,
   "metadata": {},
   "outputs": [],
   "source": [
    "import os.path\n",
    "import glob"
   ]
  },
  {
   "cell_type": "code",
   "execution_count": 31,
   "metadata": {},
   "outputs": [
    {
     "data": {
      "text/plain": [
       "'data/outfiles'"
      ]
     },
     "execution_count": 31,
     "metadata": {},
     "output_type": "execute_result"
    }
   ],
   "source": [
    "# general syntax to use a library\n",
    "# output = library_name.function_name(input)\n",
    "\n",
    "outfile_directory = os.path.join('data', 'outfiles')\n",
    "outfile_directory\n",
    "# prints what the directory will look like for the users os"
   ]
  },
  {
   "cell_type": "code",
   "execution_count": 44,
   "metadata": {},
   "outputs": [],
   "source": [
    "# set a variable to hold your file location\n",
    "# new here: using * as a wildcard to signify all files that ends in '.out'\n",
    "# note that \"*.ou\" won't work as files end in .out, but *.ou* would work\n",
    "# will join your directories in the path using \\ or /, depending on your os\n",
    "file_location = os.path.join(outfile_directory, '*.out')"
   ]
  },
  {
   "cell_type": "code",
   "execution_count": 45,
   "metadata": {},
   "outputs": [
    {
     "name": "stdout",
     "output_type": "stream",
     "text": [
      "data/outfiles/*.out\n"
     ]
    }
   ],
   "source": [
    "print(file_location)\n",
    "\n",
    "# prints 'data/outfiles/*.out' but it hasn't captured all the possible file paths yet"
   ]
  },
  {
   "cell_type": "code",
   "execution_count": 48,
   "metadata": {},
   "outputs": [
    {
     "name": "stdout",
     "output_type": "stream",
     "text": [
      "['data/outfiles/propanol.out', 'data/outfiles/pentanol.out', 'data/outfiles/decanol.out', 'data/outfiles/methanol.out', 'data/outfiles/octanol.out', 'data/outfiles/ethanol.out', 'data/outfiles/hexanol.out', 'data/outfiles/heptanol.out', 'data/outfiles/butanol.out', 'data/outfiles/nonanol.out']\n"
     ]
    }
   ],
   "source": [
    "# set variable to create a list of all file paths using glob function\n",
    "# how does glob work? looks for filepaths that match the input filepath\n",
    "# point out that library and function name are the same here\n",
    "# output is a list of file names\n",
    "\n",
    "filenames = glob.glob(file_location)\n",
    "print(filenames)\n",
    "\n",
    "# prints a list of filepaths that match the criteria within file_location \n",
    "# (so it won't grab .out files that are in other directories)"
   ]
  },
  {
   "cell_type": "code",
   "execution_count": 9,
   "metadata": {},
   "outputs": [
    {
     "name": "stdout",
     "output_type": "stream",
     "text": [
      "-193.12836249728798\n",
      "-271.20138119895074\n",
      "-466.3836241400086\n",
      "-115.04800861868374\n",
      "-388.3110864554743\n",
      "-154.09130176573018\n",
      "-310.2385332251633\n",
      "-349.27397687072676\n",
      "-232.1655798347283\n",
      "-427.3465180082815\n"
     ]
    }
   ],
   "source": [
    "# parse every file, readlines, and find the info you want to capture\n",
    "\n",
    "for f in filenames: \n",
    "    outfile = open(f, 'r')\n",
    "    data = outfile.readlines()\n",
    "    outfile.close()\n",
    "    for line in data:\n",
    "        if 'Final Energy' in line:\n",
    "            energy_line = line\n",
    "            words = energy_line.split()\n",
    "            energy = float(words[3])\n",
    "            print(energy)\n",
    "\n"
   ]
  },
  {
   "cell_type": "code",
   "execution_count": 10,
   "metadata": {},
   "outputs": [
    {
     "name": "stdout",
     "output_type": "stream",
     "text": [
      "data/outfiles/propanol.out\n"
     ]
    }
   ],
   "source": [
    "# but what molecule does each number correspond to?\n",
    "# we have a list of file paths saved as a list called filenames\n",
    "# lets simplify to capture 1 filepath by using the index number (0 for 1st file name)\n",
    "\n",
    "first_file = filenames[0]\n",
    "print(first_file)"
   ]
  },
  {
   "cell_type": "code",
   "execution_count": 25,
   "metadata": {},
   "outputs": [
    {
     "name": "stdout",
     "output_type": "stream",
     "text": [
      "propanol.out\n"
     ]
    }
   ],
   "source": [
    "# now we have the file path saved as a string, but we don't want the whole path\n",
    "# there is a function in library os.path to help us with that\n",
    "# we could split on /, figure out how many items are in our split, and select the last element of the split\n",
    "# instead, we can do all of that in one handy function called .basename\n",
    "\n",
    "file_name = os.path.basename(first_file)\n",
    "print(file_name)"
   ]
  },
  {
   "cell_type": "code",
   "execution_count": 26,
   "metadata": {},
   "outputs": [
    {
     "name": "stdout",
     "output_type": "stream",
     "text": [
      "['propanol', 'out']\n",
      "propanol\n"
     ]
    }
   ],
   "source": [
    "# how do we use the functions we already know to pull out just the molecule name?\n",
    "\n",
    "split_filename = file_name.split('.')\n",
    "print(split_filename)\n",
    "molecule_name = split_filename[0]\n",
    "print(molecule_name)"
   ]
  },
  {
   "cell_type": "code",
   "execution_count": 29,
   "metadata": {},
   "outputs": [
    {
     "name": "stdout",
     "output_type": "stream",
     "text": [
      "propanol -193.12836249728798\n",
      "pentanol -271.20138119895074\n",
      "decanol -466.3836241400086\n",
      "methanol -115.04800861868374\n",
      "octanol -388.3110864554743\n",
      "ethanol -154.09130176573018\n",
      "hexanol -310.2385332251633\n",
      "heptanol -349.27397687072676\n",
      "butanol -232.1655798347283\n",
      "nonanol -427.3465180082815\n"
     ]
    }
   ],
   "source": [
    "# we want to pull out the molecule name from each file and have it linked to the correct value\n",
    "# let's start by copying our previous nested loop and modifying it here\n",
    "# it's getting complicated, so let's start commenting our code\n",
    "\n",
    "for f in filenames: \n",
    "    # get the molecule name from each file name\n",
    "    file_name = os.path.basename(f)\n",
    "    split_filename = file_name.split('.')\n",
    "    molecule_name = split_filename[0]\n",
    "    \n",
    "    # open and read in all of our files\n",
    "    outfile = open(f, 'r')\n",
    "    data = outfile.readlines()\n",
    "    outfile.close()\n",
    "    \n",
    "    # for each file, search each line for the Final Energy value\n",
    "    # pull out the value we want\n",
    "    for line in data:\n",
    "        if 'Final Energy' in line:\n",
    "            energy_line = line\n",
    "            words = energy_line.split()\n",
    "            energy = float(words[3])\n",
    "            # note that we are adding molecule name and it will be printed with its energy value\n",
    "            print(molecule_name, energy)\n",
    "            "
   ]
  },
  {
   "cell_type": "markdown",
   "metadata": {},
   "source": [
    "## Printing/writing information to a file"
   ]
  },
  {
   "cell_type": "code",
   "execution_count": 49,
   "metadata": {},
   "outputs": [
    {
     "name": "stdout",
     "output_type": "stream",
     "text": [
      "propanol -193.12836249728798\n",
      "pentanol -271.20138119895074\n",
      "decanol -466.3836241400086\n",
      "methanol -115.04800861868374\n",
      "octanol -388.3110864554743\n",
      "ethanol -154.09130176573018\n",
      "hexanol -310.2385332251633\n",
      "heptanol -349.27397687072676\n",
      "butanol -232.1655798347283\n",
      "nonanol -427.3465180082815\n"
     ]
    }
   ],
   "source": [
    "# general syntax for writing to a new file\n",
    "# filehandle = open('file_name.txt', 'w+')\n",
    "# again, filehandle is a pointer for a file\n",
    "# w means open the file for writing\n",
    "# w+ open the file for writing and create it if it doesn't exist (will overwrite file if it does exist)\n",
    "# a will append text to end of file\n",
    "# a+ is the same, but file will be created if it doesn't exist\n",
    "\n",
    "datafile = open('energies.txt','w+')\n",
    "\n",
    "for f in filenames: \n",
    "    #get the molecule name\n",
    "    file_name = os.path.basename(f)\n",
    "    file_name_split = file_name.split('.')\n",
    "    molecule_name = file_name_split[0]\n",
    "\n",
    "    # Read the data\n",
    "    outfile = open(f, 'r')\n",
    "    data = outfile.readlines()\n",
    "    outfile.close()\n",
    "    \n",
    "    # Loop through the data line by line, saving number\n",
    "    for line in data:\n",
    "        if 'Final Energy' in line:\n",
    "            energy_line = line\n",
    "            words = energy_line.split()\n",
    "            energy = float(words[3])\n",
    "            print(molecule_name, energy)\n",
    "            # .write is a function to write to the file your are pointing to with the datafile variable\n",
    "            # python only writes strings to files, so use f string to print the contents of a {variable} within the string\n",
    "            # \\t inserts a tab, which looks like an arrow in jupyter notebook\n",
    "            # \\n inserts a line break\n",
    "            # {energy: .3f} means to use three positions after the decimal point\n",
    "            datafile.write(f'{molecule_name} \\t {energy: .3f} \\n')\n",
    "\n",
    "# file will not get written until it is closed, so make sure to put in the file.close() \n",
    "datafile.close()"
   ]
  },
  {
   "cell_type": "code",
   "execution_count": null,
   "metadata": {},
   "outputs": [],
   "source": [
    "# alternative way to print as a more readable sentence:\n",
    "\n",
    "datafile.write(f'For the file {molecule_name}, the energy is {energy: .3f} kcal/mole.')"
   ]
  }
 ],
 "metadata": {
  "kernelspec": {
   "display_name": "Python 3",
   "language": "python",
   "name": "python3"
  },
  "language_info": {
   "codemirror_mode": {
    "name": "ipython",
    "version": 3
   },
   "file_extension": ".py",
   "mimetype": "text/x-python",
   "name": "python",
   "nbconvert_exporter": "python",
   "pygments_lexer": "ipython3",
   "version": "3.7.3"
  }
 },
 "nbformat": 4,
 "nbformat_minor": 2
}

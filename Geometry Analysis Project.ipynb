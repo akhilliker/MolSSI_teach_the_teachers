{
 "cells": [
  {
   "cell_type": "markdown",
   "metadata": {},
   "source": [
    "## Instructions:\n",
    "In the lesson materials, there is a file in the data folder called “water.xyz”. This is a very simple, standard file format that is often used to distribute molecular coordinates. The first line of the file is the number of atoms in the molecule, the second line is a title line (or may be blank), and the coordinates begin on the third line. The format of the coordinates is\n",
    "Atom_Label  XCoor   YCoor   ZCoor\n",
    "\n",
    "Write a code to read in the information from the xyz file and determine the bond lengths between all the atoms. There is a numpy function to take the square root, numpy.sqrt(). To raise a number to a power, use \" ** \", as in \" 3**2 = 9 \". "
   ]
  },
  {
   "cell_type": "markdown",
   "metadata": {},
   "source": [
    "### Anatomy of an xyz file:\n",
    "There is an xyz file for water\n",
    "Used to convey molecular structures\n",
    "1st line is # of atoms\n",
    "2nd line is comment line (name of molecule)\n",
    "3rd line on is the symbol, x, y, z coordinate\n",
    "there will be as many lines as there are atoms in the file\n",
    "\n",
    "We should write a code to read in infomation into \n",
    "\n",
    "Distance formula from geometry \n",
    "\n",
    "### Extensions to homework\n",
    "#### Ext. 1\n",
    "Your initial project calculated the distance between every set of atoms. However, some of these atoms aren’t really bonded to each other. H1 and H2 are not bonded for example, and all of the distances between an atom and itself are zero. Use a distance cutoff of 1.5 angstroms to define a bond (that is, if the bond length is greater than 1.5 angstroms, consider the atoms not bonded). Modify your code to only print the atoms that are actually bonded to each other.\n",
    "\n",
    "#### Ext. 2\n",
    "Some of these are actually the same bond length; for example, O to H1 and H1 to O refer to the same bond length. Remove the duplicates from your list.\n",
    "\n",
    "#### Ext. 3\n",
    "Write a your output to a text file called bond_lengths.txt instead of just printing it to the screen.\n",
    "\n",
    "https://molssi-education.github.io/python_scripting_cms/04-tabular_data/index.html"
   ]
  },
  {
   "cell_type": "code",
   "execution_count": 1,
   "metadata": {},
   "outputs": [],
   "source": [
    "import os.path\n",
    "import numpy"
   ]
  },
  {
   "cell_type": "code",
   "execution_count": 4,
   "metadata": {},
   "outputs": [
    {
     "name": "stdout",
     "output_type": "stream",
     "text": [
      "\u001b[31mbenzene.xyz\u001b[m\u001b[m*               \u001b[34moutfiles\u001b[m\u001b[m/\r\n",
      "\u001b[31mbuckminsterfullerene.xyz\u001b[m\u001b[m*  \u001b[31msapt.out\u001b[m\u001b[m*\r\n",
      "\u001b[31mdistance_data_headers.csv\u001b[m\u001b[m* \u001b[31mwater.xyz\u001b[m\u001b[m*\r\n"
     ]
    }
   ],
   "source": [
    "ls data"
   ]
  },
  {
   "cell_type": "code",
   "execution_count": 5,
   "metadata": {},
   "outputs": [
    {
     "name": "stdout",
     "output_type": "stream",
     "text": [
      "data/water.xyz\n"
     ]
    }
   ],
   "source": [
    "file_path = os.path.join('data', 'water.xyz')\n",
    "print(file_path)"
   ]
  },
  {
   "cell_type": "code",
   "execution_count": 10,
   "metadata": {},
   "outputs": [],
   "source": [
    "# create file pointer to reference opened file to read in\n",
    "outfile = open(file_path, \"r\")\n",
    "\n",
    "# read each line of the file \n",
    "water_file = outfile.readlines()\n",
    "\n",
    "# now that you have read the file, close it\n",
    "# otherwise this can cause problems as the file it still accessible to memory\n",
    "outfile.close()"
   ]
  },
  {
   "cell_type": "code",
   "execution_count": 70,
   "metadata": {},
   "outputs": [
    {
     "name": "stdout",
     "output_type": "stream",
     "text": [
      "[['O' '0.000000' '-0.007156' '0.965491']\n",
      " ['H1' '-0.000000' '0.001486' '-0.003471']\n",
      " ['H2' '0.000000' '0.931026' '1.207929']]\n"
     ]
    }
   ],
   "source": [
    "# Alternative way to read in file\n",
    "# Must skip header for this to work. Warning \"Some errors were detected, 3 columns instead of 1\"\n",
    "# since row 1 is one digit, it thinks the array is one column; so genfromtxt needs an array with the same number of columns\n",
    "\n",
    "xyz_file = numpy.genfromtxt(fname = file_path, skip_header = 2, dtype= 'unicode')\n",
    "print(xyz_file)"
   ]
  },
  {
   "cell_type": "code",
   "execution_count": null,
   "metadata": {},
   "outputs": [],
   "source": [
    "# In solution approach, next they seperate the symbols and the coordinates as they are different data types. \n",
    "symbols = xyz_file[:, 0] # all rows, column 1 to get name\n",
    "coordinates = xyz_file[:, 1:] # all rows, column 2 and on to get numbers\n",
    "coordinates = coordinates.astype(numpy.float) # change data type from string to float"
   ]
  },
  {
   "cell_type": "code",
   "execution_count": 40,
   "metadata": {},
   "outputs": [
    {
     "name": "stdout",
     "output_type": "stream",
     "text": [
      "['3\\n', 'Water xyz file\\n', 'O        0.000000     -0.007156      0.965491\\n', 'H1      -0.000000      0.001486     -0.003471\\n', 'H2       0.000000      0.931026      1.207929\\n']\n",
      "5\n"
     ]
    }
   ],
   "source": [
    "print(water_file)\n",
    "print(len(water_file)) # prints 5, so 2 header lines and 3 atom coordinates, as expected"
   ]
  },
  {
   "cell_type": "code",
   "execution_count": 57,
   "metadata": {},
   "outputs": [
    {
     "name": "stdout",
     "output_type": "stream",
     "text": [
      "['O        0.000000     -0.007156      0.965491'\n",
      " 'H1      -0.000000      0.001486     -0.003471'\n",
      " 'H2       0.000000      0.931026      1.207929']\n"
     ]
    },
    {
     "data": {
      "text/plain": [
       "3"
      ]
     },
     "execution_count": 57,
     "metadata": {},
     "output_type": "execute_result"
    }
   ],
   "source": [
    "water_data = coordinates[2:]\n",
    "print(water_data)\n",
    "type(water_data)\n",
    "len(water_data)"
   ]
  },
  {
   "cell_type": "code",
   "execution_count": 56,
   "metadata": {},
   "outputs": [
    {
     "name": "stdout",
     "output_type": "stream",
     "text": [
      "O 0.0 -0.007156 0.965491\n",
      "H1 -0.0 0.001486 -0.003471\n",
      "0.938962041608\n",
      "0.9690005374652793\n"
     ]
    }
   ],
   "source": [
    "# Calculate the bond length between 2 atoms (to test code before setting it up as a loop)\n",
    "atom1 = water_data[0]\n",
    "atom1_split = atom1.split()\n",
    "atom1_name = atom1_split[0]\n",
    "atom1_X = float(atom1_split[1])\n",
    "atom1_Y = float(atom1_split[2])\n",
    "atom1_Z = float(atom1_split[3])\n",
    "print(atom1_name, atom1_X, atom1_Y, atom1_Z)\n",
    "\n",
    "atom2 = water_data[1]\n",
    "atom2_split = atom2.split()\n",
    "atom2_name = atom2_split[0]\n",
    "atom2_X = float(atom2_split[1])\n",
    "atom2_Y = float(atom2_split[2])\n",
    "atom2_Z = float(atom2_split[3])\n",
    "print(atom2_name, atom2_X, atom2_Y, atom2_Z)\n",
    "\n",
    "distance_sum = ((atom1_X - atom2_X)**2) + ((atom1_Y - atom2_Y)**2) + ((atom1_Z - atom2_Z)**2)\n",
    "D = numpy.sqrt(distance_sum)\n",
    "print(distance_sum)\n",
    "print(D)"
   ]
  },
  {
   "cell_type": "code",
   "execution_count": 76,
   "metadata": {},
   "outputs": [
    {
     "name": "stdout",
     "output_type": "stream",
     "text": [
      "O to H1 bond distance:  0.969 angstroms.\n",
      "O to H2 bond distance:  0.969 angstroms.\n"
     ]
    }
   ],
   "source": [
    "# set up the calculation as a for loop to test every possible pair\n",
    "atom_names = []\n",
    "atom_coordinates = []\n",
    "\n",
    "# open and create a file name\n",
    "datafile = open('H2Obondlengths.txt','w+')\n",
    "\n",
    "for atom in water_data:\n",
    "    atom_split = atom.split()\n",
    "    atom_name = atom_split[0]\n",
    "    atom_names.append(atom_name)\n",
    "    x, y, z = float(atom_split[1]), float(atom_split[2]), float(atom_split[3])\n",
    "    atom_coordinates.append([x,y,z])\n",
    "    #print(atom_name, x, y, z)\n",
    "\n",
    "    \n",
    "# tricky thing about this nested for loop is that the loop counts over the same thing\n",
    "# I did the range function (which students usually do), but could also use the enumberate function\n",
    "# len(water_data) gives the number of columns; could also pull this number from the file or take the length of the symbols array\n",
    "for i in range(len(water_data)):\n",
    "    for j in range(len(water_data)):\n",
    "        # this if statement prevents recipricol comparisons\n",
    "        if i < j:\n",
    "            atom1 = atom_coordinates[i]\n",
    "            atom2 = atom_coordinates[j]\n",
    "            distance_sum = ((atom1[0] - atom2[0])**2) + ((atom1[1] - atom2[1])**2) + ((atom1[2] - atom2[2])**2)\n",
    "            D = numpy.sqrt(distance_sum)\n",
    "            # covalent bonds are less than 1.5, don't include bonds greater than 1.5\n",
    "            # looking for bonds > 0 will cut out the comparisons of an atom to itself\n",
    "            if D > 0 and D <= 1.5:\n",
    "                print(f'{atom_names[i]} to {atom_names[j]} bond distance: {D: .3f} angstroms.')\n",
    "                datafile.write(f'{atom_names[i]} to {atom_names[j]} bond distance: {D: .3f} angstroms. \\n')\n",
    "\n",
    "datafile.close()    \n"
   ]
  },
  {
   "cell_type": "markdown",
   "metadata": {},
   "source": [
    "## Defining functions in python"
   ]
  },
  {
   "cell_type": "code",
   "execution_count": 83,
   "metadata": {},
   "outputs": [],
   "source": [
    "# basic syntax\n",
    "# def function_name(its_parameters):\n",
    "#     put code here indented\n",
    "#     could be lots of lines\n",
    "#     could include loops, conditional statements, etc.\n",
    "#     return value_from_function\n",
    "\n",
    "# design a function to measure bond length in angstroms\n",
    "# forget about where the data is coming from in this specific example, make it general\n",
    "# point out that the parameters named in the function title in () should be used within the function code\n",
    "# point out that what ever they return has to be created within the function\n",
    "# there is no output here, but you have to run the cell in jupyter notebook so that the function is in memory\n",
    "def calculate_distance(atom1_coord, atom2_coord):\n",
    "    \"\"\"\n",
    "    The triple quotes allows multi line strings and can be used anywhere. \n",
    "    This is a doc string. This is where you write documentation for how your function works. \n",
    "    There are standards for how to do this, depending on the library. MolSSI uses numpy standards.\n",
    "    By putting the doc string here before your code, it will be printed when the help(your_function_name) function is called.\n",
    "    Inputs: x, y, z coordinates (in that order) for atom1 and atom2.\n",
    "    Returns the bond distance between those two atoms in angstroms.\n",
    "    \"\"\"\n",
    "    x_distance = atom1_coord[0] - atom2_coord[0]\n",
    "    y_distance = atom1_coord[1] - atom2_coord[1]\n",
    "    z_distance = atom1_coord[2] - atom2_coord[2]\n",
    "    bond_distance = numpy.sqrt(x_distance**2 + y_distance**2 + z_distance**2)\n",
    "    return bond_distance\n",
    "\n"
   ]
  },
  {
   "cell_type": "code",
   "execution_count": 80,
   "metadata": {},
   "outputs": [
    {
     "name": "stdout",
     "output_type": "stream",
     "text": [
      "O to H1 bond distance:  0.969 angstroms.\n",
      "O to H2 bond distance:  0.969 angstroms.\n"
     ]
    }
   ],
   "source": [
    "datafile = open('H2Obondlengths2.txt','w+')\n",
    "\n",
    "for i in range(len(water_data)):\n",
    "    for j in range(len(water_data)):\n",
    "        # this if statement prevents recipricol comparisons\n",
    "        if i < j:\n",
    "            # Calling the function calculate_distance()\n",
    "            D = calculate_distance(atom_coordinates[i], atom_coordinates[j])\n",
    "            \n",
    "            # covalent bonds are less than 1.5, don't include bonds greater than 1.5\n",
    "            # looking for bonds > 0 will cut out the comparisons of an atom to itself\n",
    "            if D > 0 and D <= 1.5:\n",
    "                print(f'{atom_names[i]} to {atom_names[j]} bond distance: {D: .3f} angstroms.')\n",
    "                datafile.write(f'{atom_names[i]} to {atom_names[j]} bond distance: {D: .3f} angstroms. \\n')\n",
    "\n",
    "datafile.close()    \n"
   ]
  },
  {
   "cell_type": "code",
   "execution_count": 82,
   "metadata": {},
   "outputs": [
    {
     "name": "stdout",
     "output_type": "stream",
     "text": [
      "Help on function calculate_distance in module __main__:\n",
      "\n",
      "calculate_distance(atom1_coord, atom2_coord)\n",
      "    The triple quotes allows multi line strings and can be used anywhere. \n",
      "    This is a doc string. This is where you write documentation for how your function works. \n",
      "    There are standards for how to do this, depending on the library. MolSSI uses numpy standards.\n",
      "    Inputs: x, y, z coordinates (in that order) for atom1 and atom2.\n",
      "    Returns the bond distance between those two atoms in angstroms.\n",
      "\n"
     ]
    }
   ],
   "source": [
    "# Best practice: document your function so that there is information when you use the help() function\n",
    "help(calculate_distance)"
   ]
  },
  {
   "cell_type": "code",
   "execution_count": 86,
   "metadata": {},
   "outputs": [],
   "source": [
    "# Write a function called bond_check. Check and see if a distance is between 0 and 1.5 angstroms. \n",
    "# Return True or False (need to tell students that True and False are boolean operators and mean something specific to python. Most be capitalized)\n",
    "\n",
    "def bond_check(bond_distance):\n",
    "    \"\"\"\n",
    "    Input: a distance between two atoms, in angstroms\n",
    "    Evaluates whether the bond is between 0 and 1.5 angtroms\n",
    "    Output: True if bond is between 0 and 1.5 angstroms; else, False\n",
    "    \"\"\"\n",
    "    if bond_distance > 0 and bond_distance <= 1.5:\n",
    "        return True\n",
    "    else:\n",
    "        return False\n",
    "    \n",
    "\n",
    "\n"
   ]
  },
  {
   "cell_type": "code",
   "execution_count": 87,
   "metadata": {},
   "outputs": [
    {
     "name": "stdout",
     "output_type": "stream",
     "text": [
      "Help on function bond_check in module __main__:\n",
      "\n",
      "bond_check(bond_distance)\n",
      "    Input: a distance between two atoms, in angstroms\n",
      "    Evaluates whether the bond is between 0 and 1.5 angtroms\n",
      "    Output: True if bond is between 0 and 1.5 angstroms; else, False\n",
      "\n"
     ]
    }
   ],
   "source": [
    "help(bond_check)"
   ]
  },
  {
   "cell_type": "code",
   "execution_count": 88,
   "metadata": {},
   "outputs": [
    {
     "data": {
      "text/plain": [
       "False"
      ]
     },
     "execution_count": 88,
     "metadata": {},
     "output_type": "execute_result"
    }
   ],
   "source": [
    "# Testing your function:\n",
    "# test a variety of values: positive, negative, decimal, int\n",
    "bond_check(4) # False"
   ]
  },
  {
   "cell_type": "code",
   "execution_count": 89,
   "metadata": {},
   "outputs": [
    {
     "data": {
      "text/plain": [
       "False"
      ]
     },
     "execution_count": 89,
     "metadata": {},
     "output_type": "execute_result"
    }
   ],
   "source": [
    "bond_check(0) # False"
   ]
  },
  {
   "cell_type": "code",
   "execution_count": 90,
   "metadata": {},
   "outputs": [
    {
     "data": {
      "text/plain": [
       "False"
      ]
     },
     "execution_count": 90,
     "metadata": {},
     "output_type": "execute_result"
    }
   ],
   "source": [
    "bond_check(-1) # False"
   ]
  },
  {
   "cell_type": "code",
   "execution_count": 91,
   "metadata": {},
   "outputs": [
    {
     "data": {
      "text/plain": [
       "True"
      ]
     },
     "execution_count": 91,
     "metadata": {},
     "output_type": "execute_result"
    }
   ],
   "source": [
    "bond_check(1.2) # True"
   ]
  },
  {
   "cell_type": "code",
   "execution_count": 92,
   "metadata": {},
   "outputs": [
    {
     "data": {
      "text/plain": [
       "True"
      ]
     },
     "execution_count": 92,
     "metadata": {},
     "output_type": "execute_result"
    }
   ],
   "source": [
    "bond_check(0.8) # True"
   ]
  },
  {
   "cell_type": "code",
   "execution_count": 95,
   "metadata": {},
   "outputs": [],
   "source": [
    "# Write a function called bond_check. Check and see if a distance is between 0 and 1.5 angstroms. \n",
    "# Return True or False (need to tell students that True and False are boolean operators and mean something specific to python. Most be capitalized)\n",
    "# Make the function more flexible and let the user decide the bind length they want to check\n",
    "# Declare default values and make the min and max \n",
    "# Note for students that required parameters must be listed first; then list optional\n",
    "# don't need to type the name of the required parameters, but list them in order\n",
    "# must declare the name of optional parameters\n",
    "def bond_check(bond_distance, minimum_length = 0, maximum_length = 1.5):\n",
    "    \"\"\"\n",
    "    Input: Three numeric parameters:\n",
    "        1) a distance between two atoms, in angstroms (required parameter)\n",
    "        2) minimum acceptable bond length (optional parameter; default is 0)\n",
    "        3) maximum acceptable bond length (optional parameter; default is 1.5)\n",
    "    Evaluates whether the bond is between min and max angtroms\n",
    "    Output: True if bond is between 0 and 1.5 angstroms; else, False\n",
    "    \"\"\"\n",
    "    if bond_distance > minimum_length and bond_distance <= maximum_length:\n",
    "        return True\n",
    "    else:\n",
    "        return False\n",
    "    \n",
    "\n",
    "\n"
   ]
  },
  {
   "cell_type": "code",
   "execution_count": 96,
   "metadata": {},
   "outputs": [
    {
     "data": {
      "text/plain": [
       "True"
      ]
     },
     "execution_count": 96,
     "metadata": {},
     "output_type": "execute_result"
    }
   ],
   "source": [
    "bond_check(0.8) # True"
   ]
  },
  {
   "cell_type": "code",
   "execution_count": 97,
   "metadata": {},
   "outputs": [
    {
     "data": {
      "text/plain": [
       "False"
      ]
     },
     "execution_count": 97,
     "metadata": {},
     "output_type": "execute_result"
    }
   ],
   "source": [
    "bond_check(1.6) # False"
   ]
  },
  {
   "cell_type": "code",
   "execution_count": 98,
   "metadata": {},
   "outputs": [
    {
     "data": {
      "text/plain": [
       "True"
      ]
     },
     "execution_count": 98,
     "metadata": {},
     "output_type": "execute_result"
    }
   ],
   "source": [
    "bond_check(1.6, maximum_length = 1.7) # True"
   ]
  },
  {
   "cell_type": "code",
   "execution_count": 99,
   "metadata": {},
   "outputs": [
    {
     "data": {
      "text/plain": [
       "True"
      ]
     },
     "execution_count": 99,
     "metadata": {},
     "output_type": "execute_result"
    }
   ],
   "source": [
    "bond_check(1.6, 0.5, 1.7) # True"
   ]
  },
  {
   "cell_type": "code",
   "execution_count": null,
   "metadata": {},
   "outputs": [],
   "source": [
    "bond_check(1.6, 0.5, 1.7) # True"
   ]
  },
  {
   "cell_type": "code",
   "execution_count": 100,
   "metadata": {},
   "outputs": [
    {
     "name": "stdout",
     "output_type": "stream",
     "text": [
      "O to H1 bond distance:  0.969 angstroms.\n",
      "O to H2 bond distance:  0.969 angstroms.\n"
     ]
    }
   ],
   "source": [
    "# Adjusting the function now to include the bond check\n",
    "datafile = open('H2Obondlengths3.txt','w+')\n",
    "\n",
    "for i in range(len(water_data)):\n",
    "    for j in range(len(water_data)):\n",
    "        # this if statement prevents recipricol comparisons\n",
    "        if i < j:\n",
    "            # Calling the function calculate_distance()\n",
    "            D = calculate_distance(atom_coordinates[i], atom_coordinates[j])\n",
    "            \n",
    "            # covalent bonds are less than 1.5, don't include bonds greater than 1.5\n",
    "            # looking for bonds > 0 will cut out the comparisons of an atom to itself\n",
    "            if bond_check(D) is True:\n",
    "                print(f'{atom_names[i]} to {atom_names[j]} bond distance: {D: .3f} angstroms.')\n",
    "                datafile.write(f'{atom_names[i]} to {atom_names[j]} bond distance: {D: .3f} angstroms. \\n')\n",
    "\n",
    "datafile.close()    \n"
   ]
  },
  {
   "cell_type": "code",
   "execution_count": 103,
   "metadata": {},
   "outputs": [],
   "source": [
    "# Write a function that reasd in and processes an xy file\n",
    "# Function name open_xyz\n",
    "# Input filename\n",
    "# Two outputs: symbols and coorbinates (return symbols, coordinates)\n",
    "\n",
    "def open_xyz(filepath):\n",
    "    \"\"\"\n",
    "    Function to open an xyz file, pull the atom names and the x, y, z coordinates\n",
    "    Input:\n",
    "        Filename parameter is required and contains the file path for the xyz file\n",
    "        Assumes that the .xyz file has two header rows, which will be skipped\n",
    "        Assumes that the data array includes columns in the following order:\n",
    "            Index 0: atom name\n",
    "            Index 1: x coordinate\n",
    "            Index 2: y coordinate\n",
    "            Index 3: z coordinate\n",
    "        Coordinates are in Angstroms \n",
    "    \"\"\"\n",
    "    xyz_file = numpy.genfromtxt(fname = filepath, skip_header = 2, dtype= 'unicode')\n",
    "    symbols = xyz_file[:, 0] # all rows, column 1 to get name\n",
    "    coordinates = xyz_file[:, 1:] # all rows, column 2 and on to get numbers\n",
    "    coordinates = coordinates.astype(numpy.float) # change data type from string to float\n",
    "    return symbols, coordinates\n",
    "\n",
    "# Don't put the os.path.join into the function or you have to pass the path into each function. Allows paths to be geenrated in a variety of ways\n"
   ]
  },
  {
   "cell_type": "code",
   "execution_count": 104,
   "metadata": {},
   "outputs": [
    {
     "data": {
      "text/plain": [
       "(array(['O', 'H1', 'H2'], dtype='<U9'),\n",
       " array([[ 0.      , -0.007156,  0.965491],\n",
       "        [-0.      ,  0.001486, -0.003471],\n",
       "        [ 0.      ,  0.931026,  1.207929]]))"
      ]
     },
     "execution_count": 104,
     "metadata": {},
     "output_type": "execute_result"
    }
   ],
   "source": [
    "open_xyz(file_path)"
   ]
  },
  {
   "cell_type": "code",
   "execution_count": null,
   "metadata": {},
   "outputs": [],
   "source": []
  }
 ],
 "metadata": {
  "kernelspec": {
   "display_name": "Python 3",
   "language": "python",
   "name": "python3"
  },
  "language_info": {
   "codemirror_mode": {
    "name": "ipython",
    "version": 3
   },
   "file_extension": ".py",
   "mimetype": "text/x-python",
   "name": "python",
   "nbconvert_exporter": "python",
   "pygments_lexer": "ipython3",
   "version": "3.7.3"
  }
 },
 "nbformat": 4,
 "nbformat_minor": 2
}
